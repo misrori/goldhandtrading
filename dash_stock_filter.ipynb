{
  "nbformat": 4,
  "nbformat_minor": 0,
  "metadata": {
    "colab": {
      "provenance": [],
      "authorship_tag": "ABX9TyMklI7parfgGdjsF4wL9Xwm",
      "include_colab_link": true
    },
    "kernelspec": {
      "name": "python3",
      "display_name": "Python 3"
    },
    "language_info": {
      "name": "python"
    }
  },
  "cells": [
    {
      "cell_type": "markdown",
      "metadata": {
        "id": "view-in-github",
        "colab_type": "text"
      },
      "source": [
        "<a href=\"https://colab.research.google.com/github/misrori/goldhandtrading/blob/main/dash_stock_filter.ipynb\" target=\"_parent\"><img src=\"https://colab.research.google.com/assets/colab-badge.svg\" alt=\"Open In Colab\"/></a>"
      ]
    },
    {
      "cell_type": "code",
      "execution_count": 1,
      "metadata": {
        "colab": {
          "base_uri": "https://localhost:8080/"
        },
        "id": "xM4_cOocg67f",
        "outputId": "4a1462eb-fc21-4f23-8aab-ed0709a98e55"
      },
      "outputs": [
        {
          "output_type": "stream",
          "name": "stdout",
          "text": [
            "Collecting goldhand\n",
            "  Downloading goldhand-16.0-py3-none-any.whl (20 kB)\n",
            "Collecting dash\n",
            "  Downloading dash-2.14.2-py3-none-any.whl (10.2 MB)\n",
            "\u001b[2K     \u001b[90m━━━━━━━━━━━━━━━━━━━━━━━━━━━━━━━━━━━━━━━━\u001b[0m \u001b[32m10.2/10.2 MB\u001b[0m \u001b[31m26.2 MB/s\u001b[0m eta \u001b[36m0:00:00\u001b[0m\n",
            "\u001b[?25hRequirement already satisfied: pandas-datareader in /usr/local/lib/python3.10/dist-packages (from goldhand) (0.10.0)\n",
            "Requirement already satisfied: pandas in /usr/local/lib/python3.10/dist-packages (from goldhand) (1.5.3)\n",
            "Collecting pandas-ta (from goldhand)\n",
            "  Downloading pandas_ta-0.3.14b.tar.gz (115 kB)\n",
            "\u001b[2K     \u001b[90m━━━━━━━━━━━━━━━━━━━━━━━━━━━━━━━━━━━━━━━━\u001b[0m \u001b[32m115.1/115.1 kB\u001b[0m \u001b[31m8.0 MB/s\u001b[0m eta \u001b[36m0:00:00\u001b[0m\n",
            "\u001b[?25h  Preparing metadata (setup.py) ... \u001b[?25l\u001b[?25hdone\n",
            "Requirement already satisfied: plotly in /usr/local/lib/python3.10/dist-packages (from goldhand) (5.15.0)\n",
            "Requirement already satisfied: scipy in /usr/local/lib/python3.10/dist-packages (from goldhand) (1.11.4)\n",
            "Requirement already satisfied: numpy in /usr/local/lib/python3.10/dist-packages (from goldhand) (1.23.5)\n",
            "Requirement already satisfied: requests in /usr/local/lib/python3.10/dist-packages (from goldhand) (2.31.0)\n",
            "Collecting cloudscraper (from goldhand)\n",
            "  Downloading cloudscraper-1.2.71-py2.py3-none-any.whl (99 kB)\n",
            "\u001b[2K     \u001b[90m━━━━━━━━━━━━━━━━━━━━━━━━━━━━━━━━━━━━━━━━\u001b[0m \u001b[32m99.7/99.7 kB\u001b[0m \u001b[31m7.4 MB/s\u001b[0m eta \u001b[36m0:00:00\u001b[0m\n",
            "\u001b[?25hRequirement already satisfied: tqdm in /usr/local/lib/python3.10/dist-packages (from goldhand) (4.66.1)\n",
            "Requirement already satisfied: Flask<3.1,>=1.0.4 in /usr/local/lib/python3.10/dist-packages (from dash) (2.2.5)\n",
            "Requirement already satisfied: Werkzeug<3.1 in /usr/local/lib/python3.10/dist-packages (from dash) (3.0.1)\n",
            "Collecting dash-html-components==2.0.0 (from dash)\n",
            "  Downloading dash_html_components-2.0.0-py3-none-any.whl (4.1 kB)\n",
            "Collecting dash-core-components==2.0.0 (from dash)\n",
            "  Downloading dash_core_components-2.0.0-py3-none-any.whl (3.8 kB)\n",
            "Collecting dash-table==5.0.0 (from dash)\n",
            "  Downloading dash_table-5.0.0-py3-none-any.whl (3.9 kB)\n",
            "Requirement already satisfied: typing-extensions>=4.1.1 in /usr/local/lib/python3.10/dist-packages (from dash) (4.5.0)\n",
            "Collecting retrying (from dash)\n",
            "  Downloading retrying-1.3.4-py3-none-any.whl (11 kB)\n",
            "Collecting ansi2html (from dash)\n",
            "  Downloading ansi2html-1.9.1-py3-none-any.whl (17 kB)\n",
            "Requirement already satisfied: nest-asyncio in /usr/local/lib/python3.10/dist-packages (from dash) (1.5.9)\n",
            "Requirement already satisfied: setuptools in /usr/local/lib/python3.10/dist-packages (from dash) (67.7.2)\n",
            "Requirement already satisfied: importlib-metadata in /usr/local/lib/python3.10/dist-packages (from dash) (7.0.1)\n",
            "Requirement already satisfied: Jinja2>=3.0 in /usr/local/lib/python3.10/dist-packages (from Flask<3.1,>=1.0.4->dash) (3.1.3)\n",
            "Requirement already satisfied: itsdangerous>=2.0 in /usr/local/lib/python3.10/dist-packages (from Flask<3.1,>=1.0.4->dash) (2.1.2)\n",
            "Requirement already satisfied: click>=8.0 in /usr/local/lib/python3.10/dist-packages (from Flask<3.1,>=1.0.4->dash) (8.1.7)\n",
            "Requirement already satisfied: tenacity>=6.2.0 in /usr/local/lib/python3.10/dist-packages (from plotly->goldhand) (8.2.3)\n",
            "Requirement already satisfied: packaging in /usr/local/lib/python3.10/dist-packages (from plotly->goldhand) (23.2)\n",
            "Requirement already satisfied: MarkupSafe>=2.1.1 in /usr/local/lib/python3.10/dist-packages (from Werkzeug<3.1->dash) (2.1.3)\n",
            "Requirement already satisfied: pyparsing>=2.4.7 in /usr/local/lib/python3.10/dist-packages (from cloudscraper->goldhand) (3.1.1)\n",
            "Collecting requests-toolbelt>=0.9.1 (from cloudscraper->goldhand)\n",
            "  Downloading requests_toolbelt-1.0.0-py2.py3-none-any.whl (54 kB)\n",
            "\u001b[2K     \u001b[90m━━━━━━━━━━━━━━━━━━━━━━━━━━━━━━━━━━━━━━━━\u001b[0m \u001b[32m54.5/54.5 kB\u001b[0m \u001b[31m2.1 MB/s\u001b[0m eta \u001b[36m0:00:00\u001b[0m\n",
            "\u001b[?25hRequirement already satisfied: charset-normalizer<4,>=2 in /usr/local/lib/python3.10/dist-packages (from requests->goldhand) (3.3.2)\n",
            "Requirement already satisfied: idna<4,>=2.5 in /usr/local/lib/python3.10/dist-packages (from requests->goldhand) (3.6)\n",
            "Requirement already satisfied: urllib3<3,>=1.21.1 in /usr/local/lib/python3.10/dist-packages (from requests->goldhand) (2.0.7)\n",
            "Requirement already satisfied: certifi>=2017.4.17 in /usr/local/lib/python3.10/dist-packages (from requests->goldhand) (2023.11.17)\n",
            "Requirement already satisfied: zipp>=0.5 in /usr/local/lib/python3.10/dist-packages (from importlib-metadata->dash) (3.17.0)\n",
            "Requirement already satisfied: python-dateutil>=2.8.1 in /usr/local/lib/python3.10/dist-packages (from pandas->goldhand) (2.8.2)\n",
            "Requirement already satisfied: pytz>=2020.1 in /usr/local/lib/python3.10/dist-packages (from pandas->goldhand) (2023.3.post1)\n",
            "Requirement already satisfied: lxml in /usr/local/lib/python3.10/dist-packages (from pandas-datareader->goldhand) (4.9.4)\n",
            "Requirement already satisfied: six>=1.7.0 in /usr/local/lib/python3.10/dist-packages (from retrying->dash) (1.16.0)\n",
            "Building wheels for collected packages: pandas-ta\n",
            "  Building wheel for pandas-ta (setup.py) ... \u001b[?25l\u001b[?25hdone\n",
            "  Created wheel for pandas-ta: filename=pandas_ta-0.3.14b0-py3-none-any.whl size=218907 sha256=f4cfc6d782f0f6d5d7a36c281c9ada1005036dcd6760f74a9dafa045c06c3aad\n",
            "  Stored in directory: /root/.cache/pip/wheels/69/00/ac/f7fa862c34b0e2ef320175100c233377b4c558944f12474cf0\n",
            "Successfully built pandas-ta\n",
            "Installing collected packages: dash-table, dash-html-components, dash-core-components, retrying, ansi2html, requests-toolbelt, pandas-ta, dash, cloudscraper, goldhand\n",
            "Successfully installed ansi2html-1.9.1 cloudscraper-1.2.71 dash-2.14.2 dash-core-components-2.0.0 dash-html-components-2.0.0 dash-table-5.0.0 goldhand-16.0 pandas-ta-0.3.14b0 requests-toolbelt-1.0.0 retrying-1.3.4\n"
          ]
        }
      ],
      "source": [
        "!pip install goldhand dash"
      ]
    },
    {
      "cell_type": "markdown",
      "source": [
        "# automatic"
      ],
      "metadata": {
        "id": "i-B2VvB23PoJ"
      }
    },
    {
      "cell_type": "code",
      "source": [
        "import dash\n",
        "from dash import dcc, html\n",
        "from dash.dependencies import Input, Output\n",
        "import plotly.express as px\n",
        "import pandas as pd\n",
        "import time\n",
        "from goldhand import *\n",
        "\n",
        "\n",
        "tw=Tw()\n",
        "df =tw.stock\n",
        "\n",
        "sector = 'Consumer Durables' # @param [\"Electronic Technology\", \"Technology Services\", \"Retail Trade\", \"Consumer Durables\", \"Health Technology\", \"Commercial Services\", \"Finance\", \"Health Services\", \"Energy Minerals\", \"Consumer Non-Durables\", \"Consumer Services\", \"Process Industries\", \"Communications\", \"Producer Manufacturing\", \"Transportation\", \"Utilities\", \"Distribution Services\", \"Industrial Services\", \"Non-Energy Minerals\", \"Miscellaneous\"]\n",
        "industry = 'Motor Vehicles' # @param ['All','Telecommunications Equipment', 'Packaged Software', 'Internet Software/Services', 'Internet Retail', 'Semiconductors', 'Motor Vehicles', 'Pharmaceuticals: Major', 'Miscellaneous Commercial Services', 'Major Banks', 'Managed Health Care', 'Specialty Stores', 'Integrated Oil', 'Household/Personal Care', 'Home Improvement Chains', 'Beverages: Non-Alcoholic', 'Information Technology Services', 'Restaurants', 'Medical Specialties', 'Chemicals: Specialty', 'Department Stores', 'Wireless Telecommunications', 'Cable/Satellite TV', 'Movies/Entertainment', 'Apparel/Footwear', 'Investment Managers', 'Aerospace & Defense', 'Investment Banks/Brokers', 'Trucks/Construction/Farm Machinery', 'Railroads', 'Tobacco', 'Financial Publishing/Services', 'Industrial Machinery', 'Oil & Gas Production', 'Finance/Rental/Leasing', 'Air Freight/Couriers', 'Other Transportation', 'Electric Utilities', 'Other Consumer Services', 'Apparel/Footwear Retail', 'Drugstore Chains', 'Biotechnology', 'Food: Specialty/Candy', 'Electrical Products', 'Data Processing Services', 'Insurance Brokers/Services', 'Multi-Line Insurance', 'Property/Casualty Insurance', 'Medical Distributors', 'Industrial Specialties', 'Regional Banks', 'Electronic Equipment/Instruments', 'Contract Drilling', 'Computer Peripherals', 'Hospital/Nursing Management', 'Environmental Services', 'Other Metals/Minerals', 'Hotels/Resorts/Cruise lines', 'Industrial Conglomerates', 'Electronic Components', 'Oil Refining/Marketing', 'Oil & Gas Pipelines', 'Computer Processing Hardware', 'Homebuilding', 'Precious Metals', 'Construction Materials', 'Food: Major Diversified', 'Beverages: Alcoholic', 'Trucking', 'Steel', 'Services to the Health Industry', 'Wholesale Distributors', 'Agricultural Commodities/Milling', 'Life/Health Insurance', 'Casinos/Gaming', 'Food Distributors', 'Building Products', 'Chemicals: Agricultural', 'Chemicals: Major Diversified', 'Food Retail', 'Oilfield Services/Equipment', 'Engineering & Construction', 'Discount Stores', 'Real Estate Development', 'Airlines', 'Water Utilities', 'Auto Parts: OEM', 'Gas Distributors', 'Coal', 'Broadcasting', 'Alternative Power Generation', 'Commercial Printing/Forms', 'Electronic Production Equipment', 'Containers/Packaging', 'Food: Meat/Fish/Dairy', 'Advertising/Marketing Services', 'Electronics/Appliance Stores', 'Media Conglomerates', 'Computer Communications', 'Tools & Hardware', 'Publishing: Newspapers', 'Specialty Insurance', 'Electronics/Appliances', 'Automotive Aftermarket', 'Investment Trusts/Mutual Funds', 'Miscellaneous Manufacturing', 'Electronics Distributors', 'Medical/Nursing Services', 'Personnel Services', 'Savings Banks', 'Forest Products', 'Home Furnishings', 'Metal Fabrication', 'Recreational Products', 'Other Consumer Specialties', 'Major Telecommunications', 'Aluminum', 'Specialty Telecommunications', 'Pharmaceuticals: Other', 'Marine Shipping', 'Textiles', 'Real Estate Investment Trusts', 'Consumer Sundries', 'Financial Conglomerates', 'Pulp & Paper', 'Office Equipment/Supplies', 'Publishing: Books/Magazines', 'Miscellaneous', 'Catalog/Specialty Distribution', 'Pharmaceuticals: Generic']\n",
        "ndays =880 # @param {type:\"slider\", min:100, max:1000, step:10}\n",
        "seconds = 10 # @param {type:\"slider\", min:5, max:20, step:1}\n",
        "\n",
        "\n",
        "if industry == 'All':\n",
        "    name_list =  list(df.loc[df['sector']==sector]['name'])\n",
        "else:\n",
        "    name_list =  list(df.loc[df['industry']==industry]['name'])\n",
        "\n",
        "\n",
        "\n",
        "# Dash app\n",
        "app = dash.Dash(__name__)\n",
        "\n",
        "app.layout = html.Div([\n",
        "    dcc.Graph(id='live-update-graph', config={'scrollZoom': False}),\n",
        "\n",
        "    dcc.Interval(\n",
        "        id='interval-component',\n",
        "        interval=seconds*1000,  # in milliseconds\n",
        "        n_intervals=0\n",
        "    )\n",
        "],style={ 'margin': 10, 'gap': 10, 'height':'100vh'}\n",
        ")\n",
        "\n",
        "\n",
        "@app.callback(\n",
        "    Output('live-update-graph', 'figure'),\n",
        "    Input('interval-component', 'n_intervals')\n",
        ")\n",
        "def update_graph(n):\n",
        "    # Get the next name in the list\n",
        "    ticker = name_list[n % len(name_list)]\n",
        "\n",
        "    # Get the plot for the next name\n",
        "    t = GoldHand(ticker)\n",
        "    fig = t.plotly_last_year(plot_title=tw.get_plotly_title(ticker), plot_height=1000, ndays=ndays)\n",
        "\n",
        "\n",
        "    return fig\n",
        "\n",
        "if __name__ == '__main__':\n",
        "\n",
        "    app.run_server(debug=True,jupyter_mode='external')\n"
      ],
      "metadata": {
        "colab": {
          "base_uri": "https://localhost:8080/",
          "height": 52
        },
        "id": "eEezTLRgm9P4",
        "outputId": "390d482c-f245-4aac-f467-1acc627b5ba9"
      },
      "execution_count": null,
      "outputs": [
        {
          "output_type": "stream",
          "name": "stdout",
          "text": [
            "Dash app running on:\n"
          ]
        },
        {
          "output_type": "display_data",
          "data": {
            "text/plain": [
              "<IPython.core.display.Javascript object>"
            ],
            "application/javascript": [
              "(async (port, path, text, element) => {\n",
              "    if (!google.colab.kernel.accessAllowed) {\n",
              "      return;\n",
              "    }\n",
              "    element.appendChild(document.createTextNode(''));\n",
              "    const url = await google.colab.kernel.proxyPort(port);\n",
              "    const anchor = document.createElement('a');\n",
              "    anchor.href = new URL(path, url).toString();\n",
              "    anchor.target = '_blank';\n",
              "    anchor.setAttribute('data-href', url + path);\n",
              "    anchor.textContent = text;\n",
              "    element.appendChild(anchor);\n",
              "  })(8050, \"/\", \"http://127.0.0.1:8050/\", window.element)"
            ]
          },
          "metadata": {}
        }
      ]
    },
    {
      "cell_type": "markdown",
      "source": [
        "# manual"
      ],
      "metadata": {
        "id": "71v1ygGi3Txu"
      }
    },
    {
      "cell_type": "code",
      "source": [
        "import dash\n",
        "from dash import dcc, html\n",
        "from dash.dependencies import Input, Output\n",
        "import plotly.express as px\n",
        "from goldhand import *\n",
        "\n",
        "tw=Tw()\n",
        "df =tw.stock\n",
        "\n",
        "sector = 'Consumer Durables' # @param [\"Electronic Technology\", \"Technology Services\", \"Retail Trade\", \"Consumer Durables\", \"Health Technology\", \"Commercial Services\", \"Finance\", \"Health Services\", \"Energy Minerals\", \"Consumer Non-Durables\", \"Consumer Services\", \"Process Industries\", \"Communications\", \"Producer Manufacturing\", \"Transportation\", \"Utilities\", \"Distribution Services\", \"Industrial Services\", \"Non-Energy Minerals\", \"Miscellaneous\"]\n",
        "industry = 'Motor Vehicles' # @param ['All','Telecommunications Equipment', 'Packaged Software', 'Internet Software/Services', 'Internet Retail', 'Semiconductors', 'Motor Vehicles', 'Pharmaceuticals: Major', 'Miscellaneous Commercial Services', 'Major Banks', 'Managed Health Care', 'Specialty Stores', 'Integrated Oil', 'Household/Personal Care', 'Home Improvement Chains', 'Beverages: Non-Alcoholic', 'Information Technology Services', 'Restaurants', 'Medical Specialties', 'Chemicals: Specialty', 'Department Stores', 'Wireless Telecommunications', 'Cable/Satellite TV', 'Movies/Entertainment', 'Apparel/Footwear', 'Investment Managers', 'Aerospace & Defense', 'Investment Banks/Brokers', 'Trucks/Construction/Farm Machinery', 'Railroads', 'Tobacco', 'Financial Publishing/Services', 'Industrial Machinery', 'Oil & Gas Production', 'Finance/Rental/Leasing', 'Air Freight/Couriers', 'Other Transportation', 'Electric Utilities', 'Other Consumer Services', 'Apparel/Footwear Retail', 'Drugstore Chains', 'Biotechnology', 'Food: Specialty/Candy', 'Electrical Products', 'Data Processing Services', 'Insurance Brokers/Services', 'Multi-Line Insurance', 'Property/Casualty Insurance', 'Medical Distributors', 'Industrial Specialties', 'Regional Banks', 'Electronic Equipment/Instruments', 'Contract Drilling', 'Computer Peripherals', 'Hospital/Nursing Management', 'Environmental Services', 'Other Metals/Minerals', 'Hotels/Resorts/Cruise lines', 'Industrial Conglomerates', 'Electronic Components', 'Oil Refining/Marketing', 'Oil & Gas Pipelines', 'Computer Processing Hardware', 'Homebuilding', 'Precious Metals', 'Construction Materials', 'Food: Major Diversified', 'Beverages: Alcoholic', 'Trucking', 'Steel', 'Services to the Health Industry', 'Wholesale Distributors', 'Agricultural Commodities/Milling', 'Life/Health Insurance', 'Casinos/Gaming', 'Food Distributors', 'Building Products', 'Chemicals: Agricultural', 'Chemicals: Major Diversified', 'Food Retail', 'Oilfield Services/Equipment', 'Engineering & Construction', 'Discount Stores', 'Real Estate Development', 'Airlines', 'Water Utilities', 'Auto Parts: OEM', 'Gas Distributors', 'Coal', 'Broadcasting', 'Alternative Power Generation', 'Commercial Printing/Forms', 'Electronic Production Equipment', 'Containers/Packaging', 'Food: Meat/Fish/Dairy', 'Advertising/Marketing Services', 'Electronics/Appliance Stores', 'Media Conglomerates', 'Computer Communications', 'Tools & Hardware', 'Publishing: Newspapers', 'Specialty Insurance', 'Electronics/Appliances', 'Automotive Aftermarket', 'Investment Trusts/Mutual Funds', 'Miscellaneous Manufacturing', 'Electronics Distributors', 'Medical/Nursing Services', 'Personnel Services', 'Savings Banks', 'Forest Products', 'Home Furnishings', 'Metal Fabrication', 'Recreational Products', 'Other Consumer Specialties', 'Major Telecommunications', 'Aluminum', 'Specialty Telecommunications', 'Pharmaceuticals: Other', 'Marine Shipping', 'Textiles', 'Real Estate Investment Trusts', 'Consumer Sundries', 'Financial Conglomerates', 'Pulp & Paper', 'Office Equipment/Supplies', 'Publishing: Books/Magazines', 'Miscellaneous', 'Catalog/Specialty Distribution', 'Pharmaceuticals: Generic']\n",
        "#ndays =840 # @param {type:\"slider\", min:100, max:1000, step:10}\n",
        "\n",
        "if industry == 'All':\n",
        "    name_list =  list(df.loc[df['sector']==sector]['name'])\n",
        "else:\n",
        "    name_list =  list(df.loc[df['industry']==industry]['name'])\n",
        "\n",
        "\n",
        "\n",
        "\n",
        "# Dash app\n",
        "app = dash.Dash(__name__)\n",
        "\n",
        "app.layout = html.Div([\n",
        "    html.Button('Previous', id='prev-button', n_clicks=0),\n",
        "    html.Button('Next', id='next-button', n_clicks=0),\n",
        "    dcc.Input(\n",
        "        id='ndays-input',\n",
        "        type='number',\n",
        "        value=530,  # Set the default value\n",
        "        step=10\n",
        "    ),\n",
        "    dcc.Graph(id='live-update-graph'),\n",
        "\n",
        "])\n",
        "\n",
        "@app.callback(\n",
        "    Output('live-update-graph', 'figure'),\n",
        "    [Input('next-button', 'n_clicks'),\n",
        "     Input('prev-button', 'n_clicks'),\n",
        "     Input('ndays-input', 'value')]\n",
        ")\n",
        "def update_graph(next_clicks, prev_clicks, ndays):\n",
        "    # Determine which button was clicked\n",
        "    ctx = dash.callback_context\n",
        "    button_id = ctx.triggered_id\n",
        "\n",
        "    # Get the current name index\n",
        "    current_index = next_clicks - prev_clicks\n",
        "\n",
        "    # Handle button clicks\n",
        "    if button_id == 'next-button':\n",
        "        next_index = current_index + 1\n",
        "    elif button_id == 'prev-button':\n",
        "        next_index = current_index - 1\n",
        "    else:\n",
        "        next_index = current_index\n",
        "\n",
        "    # Ensure the index is within the valid range\n",
        "    next_index = next_index % len(df)\n",
        "\n",
        "    # Get the next name\n",
        "\n",
        "    ticker = name_list[next_index]\n",
        "\n",
        "    # Get the plot for the next name\n",
        "    t = GoldHand(ticker)\n",
        "    #fig = t.plot_goldhand_line(plot_title=tw.get_plotly_title(ticker))\n",
        "    fig = t.plotly_last_year(plot_title=tw.get_plotly_title(ticker), plot_height=1000, ndays=ndays)\n",
        "\n",
        "    return fig\n",
        "\n",
        "if __name__ == '__main__':\n",
        "    app.run_server(debug=True,jupyter_mode='external')\n",
        "\n"
      ],
      "metadata": {
        "colab": {
          "base_uri": "https://localhost:8080/",
          "height": 52
        },
        "id": "uzq2LO9GqS0C",
        "outputId": "70f0d8cb-95fc-4196-d28f-c3d4241e2d7c"
      },
      "execution_count": 3,
      "outputs": [
        {
          "output_type": "stream",
          "name": "stdout",
          "text": [
            "Dash app running on:\n"
          ]
        },
        {
          "output_type": "display_data",
          "data": {
            "text/plain": [
              "<IPython.core.display.Javascript object>"
            ],
            "application/javascript": [
              "(async (port, path, text, element) => {\n",
              "    if (!google.colab.kernel.accessAllowed) {\n",
              "      return;\n",
              "    }\n",
              "    element.appendChild(document.createTextNode(''));\n",
              "    const url = await google.colab.kernel.proxyPort(port);\n",
              "    const anchor = document.createElement('a');\n",
              "    anchor.href = new URL(path, url).toString();\n",
              "    anchor.target = '_blank';\n",
              "    anchor.setAttribute('data-href', url + path);\n",
              "    anchor.textContent = text;\n",
              "    element.appendChild(anchor);\n",
              "  })(8050, \"/\", \"http://127.0.0.1:8050/\", window.element)"
            ]
          },
          "metadata": {}
        }
      ]
    }
  ]
}